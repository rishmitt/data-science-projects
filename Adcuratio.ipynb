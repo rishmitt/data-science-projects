{
 "cells": [
  {
   "cell_type": "code",
   "execution_count": 4,
   "metadata": {},
   "outputs": [],
   "source": [
    "#importig scrapy for scraping data\n",
    "import scrapy\n",
    "from scrapy.item import Item, Field\n",
    "from scrapy import Spider\n",
    "\n",
    "\n",
    "class StackItem(Item):\n",
    "    title = Field()\n",
    "    url = Field()\n",
    "    image = Field()\n",
    "    description = Field()"
   ]
  },
  {
   "cell_type": "code",
   "execution_count": 5,
   "metadata": {},
   "outputs": [],
   "source": [
    "class StackSpider(Spider):\n",
    "    name = \"stack\"\n",
    "    allowed_domains = [\"news.ycombinator.com\"]\n",
    "    start_urls = [\n",
    "        \"news.ycombinator.com\",\n",
    "    ]\n",
    "    def parse(self, response):\n",
    "        items = Selector(response).xpath('//[@class=\"athing\"]/tr')\n",
    "\n",
    "        for item in items:\n",
    "            item = StackItem()\n",
    "            item['title'] = item.xpath(\n",
    "                'a[@class=\"title\"]/text()').extract()[0]\n",
    "            item['url'] = item.xpath(\n",
    "                'a[@class=\"url\"]/@td').extract()[0]\n",
    "            item['image'] = item.xpath(\n",
    "                'a[@class=\"img\"]/@tr').extract()[0]\n",
    "            item['description'] = item.xpath(\n",
    "                'a[@class=\"body\"]/@td').extract()[0]\n",
    "            yield item"
   ]
  },
  {
   "cell_type": "code",
   "execution_count": 6,
   "metadata": {},
   "outputs": [],
   "source": [
    "# create the database specify the pipeline and add the database settings\n",
    "\n",
    "ITEM_PIPELINES = ['stack.pipelines.MongoDBPipeline', ]\n",
    "\n",
    "MONGODB_SERVER = \"localhost\"\n",
    "MONGODB_PORT = 27017\n",
    "MONGODB_DB = \"stackoverflow\"\n",
    "MONGODB_COLLECTION = \"questions\""
   ]
  },
  {
   "cell_type": "code",
   "execution_count": null,
   "metadata": {},
   "outputs": [],
   "source": [
    "#Storing the data in mongodb\n",
    "\n",
    "import pymongo\n",
    "\n",
    "from scrapy.conf import settings\n",
    "from scrapy.exceptions import DropItem\n",
    "from scrapy import log\n",
    "\n",
    "\n",
    "class MongoDBPipeline(object):\n",
    "\n",
    "    def __init__(self):\n",
    "        connection = pymongo.MongoClient(\n",
    "            settings['MONGODB_SERVER'],\n",
    "            settings['MONGODB_PORT']\n",
    "        )\n",
    "        db = connection[settings['MONGODB_DB']]\n",
    "        self.collection = db[settings['MONGODB_COLLECTION']]\n",
    "\n",
    "    def process_item(self, item, spider):\n",
    "        valid = True\n",
    "        for data in item:\n",
    "            if not data:\n",
    "                valid = False\n",
    "                raise DropItem(\"Missing {0}!\".format(data))\n",
    "        if valid:\n",
    "            self.collection.insert(dict(item))\n",
    "            log.msg(\"Question added to MongoDB database!\",\n",
    "                    level=log.DEBUG, spider=spider)\n",
    "        return item"
   ]
  }
 ],
 "metadata": {
  "kernelspec": {
   "display_name": "Python 3",
   "language": "python",
   "name": "python3"
  },
  "language_info": {
   "codemirror_mode": {
    "name": "ipython",
    "version": 3
   },
   "file_extension": ".py",
   "mimetype": "text/x-python",
   "name": "python",
   "nbconvert_exporter": "python",
   "pygments_lexer": "ipython3",
   "version": "3.7.0"
  }
 },
 "nbformat": 4,
 "nbformat_minor": 2
}
